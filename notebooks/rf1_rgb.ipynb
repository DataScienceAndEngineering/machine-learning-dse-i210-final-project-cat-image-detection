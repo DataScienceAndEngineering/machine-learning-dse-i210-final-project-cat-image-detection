{
 "cells": [
  {
   "cell_type": "markdown",
   "metadata": {},
   "source": [
    "Random Forest Classifier \n",
    "\n",
    "\n",
    "Raw pixel values of the images without extracting features"
   ]
  },
  {
   "cell_type": "markdown",
   "metadata": {},
   "source": [
    "two empty lists, images and labels, which will be used to store the flattened images and their corresponding labels (0 for cats and 1 for dogs), respectively."
   ]
  },
  {
   "cell_type": "code",
   "execution_count": 1,
   "metadata": {},
   "outputs": [],
   "source": [
    "import cv2\n",
    "import numpy as np\n",
    "import os\n",
    "from sklearn.ensemble import RandomForestClassifier\n",
    "from skimage import io\n",
    "import shutil\n"
   ]
  },
  {
   "cell_type": "code",
   "execution_count": 2,
   "metadata": {},
   "outputs": [],
   "source": [
    "\n",
    "# Paths to the directories containing cat and dog subsets\n",
    "base_path = \"/Users/blanchepenafiel/Desktop/Dataset\"\n",
    "train_path = os.path.join(base_path, \"Train\")\n",
    "cat_subset_path = os.path.join(train_path, \"train_cat_subset\")\n",
    "dog_subset_path = os.path.join(train_path, \"train_dog_subset\")\n",
    "cat_val_path=os.path.join(base_path, \"Val\", \"Cat\")\n",
    "dog_val_path=os.path.join(base_path, \"Val\", \"Dog\")"
   ]
  },
  {
   "cell_type": "code",
   "execution_count": 3,
   "metadata": {},
   "outputs": [],
   "source": [
    "import os\n",
    "import cv2\n",
    "import numpy as np\n",
    "from sklearn.ensemble import RandomForestClassifier\n",
    "from sklearn.metrics import accuracy_score\n",
    "\n",
    "# Function to preprocess an image\n",
    "def preprocess_image(image_path, target_size=(224, 224)):\n",
    "    try:\n",
    "        # Load image\n",
    "        img = cv2.imread(image_path)\n",
    "        if img is None:\n",
    "            raise OSError(\"Failed to read image\")\n",
    "        \n",
    "        # Resize image\n",
    "        resized_img = cv2.resize(img, target_size)\n",
    "        \n",
    "        # Normalize image\n",
    "        normalized_img = resized_img / 255.0\n",
    "        \n",
    "        # Flatten image\n",
    "        flattened_img = normalized_img.flatten()\n",
    "        \n",
    "        return flattened_img\n",
    "    except Exception as e:\n",
    "        print(f\"Error processing image {image_path}: {e}\")\n",
    "        return None\n",
    "\n",
    "# Function to preprocess all images in a folder\n",
    "def preprocess_images_in_folder(folder_path, target_size=(224, 224)):\n",
    "    preprocessed_images = []\n",
    "    for filename in os.listdir(folder_path):\n",
    "        if filename.endswith(\".jpg\"):\n",
    "            image_path = os.path.join(folder_path, filename)\n",
    "            preprocessed_image = preprocess_image(image_path, target_size)\n",
    "            if preprocessed_image is not None:\n",
    "                preprocessed_images.append(preprocessed_image)\n",
    "    return np.array(preprocessed_images)\n",
    "\n",
    "# Paths to the directories containing cat and dog subsets\n",
    "base_path = \"/Users/blanchepenafiel/Desktop/Dataset\"\n",
    "train_path = os.path.join(base_path, \"Train\")\n",
    "cat_subset_path = os.path.join(train_path, \"train_cat_subset\")\n",
    "dog_subset_path = os.path.join(train_path, \"train_dog_subset\")\n",
    "cat_val_path=os.path.join(base_path, \"Val\", \"Cat\")\n",
    "dog_val_path=os.path.join(base_path, \"Val\", \"Dog\")\n",
    "\n",
    "\n"
   ]
  },
  {
   "cell_type": "code",
   "execution_count": 4,
   "metadata": {},
   "outputs": [
    {
     "name": "stderr",
     "output_type": "stream",
     "text": [
      "Corrupt JPEG data: 214 extraneous bytes before marker 0xd9\n",
      "Corrupt JPEG data: 65 extraneous bytes before marker 0xd9\n",
      "Corrupt JPEG data: 226 extraneous bytes before marker 0xd9\n"
     ]
    }
   ],
   "source": [
    "# Preprocess cat images\n",
    "cat_images = preprocess_images_in_folder(cat_subset_path)\n",
    "\n",
    "# Preprocess dog images\n",
    "dog_images = preprocess_images_in_folder(dog_subset_path)\n",
    "\n",
    "\n"
   ]
  },
  {
   "cell_type": "code",
   "execution_count": 5,
   "metadata": {},
   "outputs": [],
   "source": [
    "# Train a Random Forest model for each color channel (R, G, B)\n",
    "colors = ['R', 'G', 'B']\n",
    "models = {}\n",
    "\n",
    "for color in colors:\n",
    "    # Extract the corresponding channel\n",
    "    if color == 'R':\n",
    "        cat_channel = cat_images[:, :224*224]\n",
    "        dog_channel = dog_images[:, :224*224]\n",
    "    elif color == 'G':\n",
    "        cat_channel = cat_images[:, 224*224:2*224*224]\n",
    "        dog_channel = dog_images[:, 224*224:2*224*224]\n",
    "    elif color == 'B':\n",
    "        cat_channel = cat_images[:, 2*224*224:]\n",
    "        dog_channel = dog_images[:, 2*224*224:]\n",
    "    \n",
    "    # Create training data and labels\n",
    "    X_train = np.vstack((cat_channel, dog_channel))\n",
    "    y_train = np.hstack((np.zeros(len(cat_channel)), np.ones(len(dog_channel))))\n",
    "    \n",
    "    # Train Random Forest model\n",
    "    model = RandomForestClassifier(n_estimators=100, random_state=42)\n",
    "    model.fit(X_train, y_train)\n",
    "    \n",
    "    models[color] = model\n",
    "\n"
   ]
  },
  {
   "cell_type": "code",
   "execution_count": 6,
   "metadata": {},
   "outputs": [
    {
     "name": "stdout",
     "output_type": "stream",
     "text": [
      "Accuracy for Cat images using R channel: 0.6586345381526104\n",
      "Accuracy for Cat images using G channel: 0.6224899598393574\n",
      "Accuracy for Cat images using B channel: 0.6767068273092369\n",
      "Accuracy for Dog images using R channel: 0.5658291457286432\n",
      "Accuracy for Dog images using G channel: 0.6351758793969849\n",
      "Accuracy for Dog images using B channel: 0.5718592964824121\n"
     ]
    }
   ],
   "source": [
    "# Evaluate models on validation data\n",
    "val_images = {'Cat': cat_val_path, 'Dog': dog_val_path}\n",
    "for animal, path in val_images.items():\n",
    "    for color, model in models.items():\n",
    "        # Preprocess validation images\n",
    "        val_images_preprocessed = preprocess_images_in_folder(path)\n",
    "        \n",
    "        # Extract the corresponding channel\n",
    "        if color == 'R':\n",
    "            val_channel = val_images_preprocessed[:, :224*224]\n",
    "        elif color == 'G':\n",
    "            val_channel = val_images_preprocessed[:, 224*224:2*224*224]\n",
    "        elif color == 'B':\n",
    "            val_channel = val_images_preprocessed[:, 2*224*224:]\n",
    "        \n",
    "        # Make predictions\n",
    "        predictions = model.predict(val_channel)\n",
    "        \n",
    "        # Calculate accuracy\n",
    "        accuracy = accuracy_score(np.ones(len(predictions)), predictions) if animal == 'Dog' else accuracy_score(np.zeros(len(predictions)), predictions)\n",
    "        \n",
    "        print(f\"Accuracy for {animal} images using {color} channel: {accuracy}\")"
   ]
  }
 ],
 "metadata": {
  "kernelspec": {
   "display_name": "Python 3",
   "language": "python",
   "name": "python3"
  },
  "language_info": {
   "codemirror_mode": {
    "name": "ipython",
    "version": 3
   },
   "file_extension": ".py",
   "mimetype": "text/x-python",
   "name": "python",
   "nbconvert_exporter": "python",
   "pygments_lexer": "ipython3",
   "version": "3.11.1"
  }
 },
 "nbformat": 4,
 "nbformat_minor": 2
}
