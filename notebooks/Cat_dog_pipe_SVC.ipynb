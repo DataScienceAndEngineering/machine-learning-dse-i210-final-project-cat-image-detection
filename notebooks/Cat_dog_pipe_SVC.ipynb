{
  "cells": [
    {
      "cell_type": "code",
      "execution_count": 1,
      "metadata": {
        "id": "Cwt2ktRkSpVK"
      },
      "outputs": [],
      "source": [
        "\n",
        "import requests\n",
        "import os\n",
        "import pandas as pd\n",
        "\n",
        "# GitHub repository owner and name\n",
        "owner = \"AMoazeni\"\n",
        "repo = \"Machine-Learning-Image-Classification\"\n",
        "\n",
        "# Function to fetch contents of a directory from GitHub API\n",
        "def get_github_directory_contents(owner, repo, path):\n",
        "    url = f\"https://api.github.com/repos/{owner}/{repo}/contents/{path}\"\n",
        "    response = requests.get(url)\n",
        "    if response.status_code == 200:\n",
        "        return response.json()\n",
        "    else:\n",
        "        print(\"Failed to fetch directory contents from GitHub API:\", response.text)\n",
        "        return []\n",
        "\n",
        "# Function to download images\n",
        "def download_images(image_urls, directory, name):\n",
        "    os.makedirs(directory, exist_ok=True)\n",
        "    for i, url in enumerate(image_urls):\n",
        "        response = requests.get(url)\n",
        "        if response.status_code == 200:\n",
        "            image_path = os.path.join(directory, f\"{name}_{i}.jpg\")\n",
        "            with open(image_path, 'wb') as f:\n",
        "                f.write(response.content)\n",
        "        else:\n",
        "            print(f\"Failed to download image from URL {url}\")\n",
        "\n",
        "# Fetch URLs of the cat images\n",
        "url_cat = \"Data/training_set/cats\"\n",
        "cat_set = get_github_directory_contents(owner, repo, url_cat)\n",
        "cat_images = [content['download_url'] for content in cat_set if content['type'] == 'file' and content['name'].endswith('.jpg')]\n",
        "\n",
        "# Fetch URLs of the dog images\n",
        "url_dog = \"Data/test_set/dogs\"\n",
        "dog_set = get_github_directory_contents(owner, repo, url_dog)\n",
        "dog_images = [content['download_url'] for content in dog_set if content['type'] == 'file' and content['name'].endswith('.jpg')]\n",
        "\n",
        "# Download cat images\n",
        "download_images(cat_images[:1000], \"cat_set\", \"cat\")\n",
        "\n",
        "# Download dog images\n",
        "download_images(dog_images[:1000], \"dog_set\", \"dog\")\n",
        "\n",
        "# Create dataframes with image paths\n",
        "cat_image_paths = [f\"cat_set/cat_{i}.jpg\" for i in range(1000)]\n",
        "dog_image_paths = [f\"dog_set/dog_{i}.jpg\" for i in range(1000)]\n",
        "\n",
        "cat_df = pd.DataFrame({\"image_path\": cat_image_paths, \"Target\": 1})\n",
        "dog_df = pd.DataFrame({\"image_path\": dog_image_paths, \"Target\": 0})\n"
      ]
    },
    {
      "cell_type": "code",
      "execution_count": 2,
      "metadata": {
        "colab": {
          "base_uri": "https://localhost:8080/"
        },
        "id": "ny_l1tUASrYR",
        "outputId": "2b4578d6-43e2-43ed-d580-8adf7429e608"
      },
      "outputs": [
        {
          "output_type": "stream",
          "name": "stdout",
          "text": [
            "1000 1000\n"
          ]
        }
      ],
      "source": [
        "print(len(cat_df), len(dog_df))"
      ]
    },
    {
      "cell_type": "markdown",
      "source": [
        "concattenate the dataset and shuffle it."
      ],
      "metadata": {
        "id": "73F0hWyPXuAZ"
      }
    },
    {
      "cell_type": "code",
      "execution_count": 3,
      "metadata": {
        "id": "qZwAXNG9VGzY"
      },
      "outputs": [],
      "source": [
        "# Concatenate the dataframes\n",
        "cat_dog_df = pd.concat([cat_df, dog_df], ignore_index=True)\n",
        "\n",
        "# Shuffle the combined dataframes\n",
        "cat_dog_df = cat_dog_df.sample(frac=1).reset_index(drop=True)"
      ]
    },
    {
      "cell_type": "markdown",
      "source": [
        "preprocess image applying prewitt and morphological edge detection"
      ],
      "metadata": {
        "id": "k0QRCpTdX7LL"
      }
    },
    {
      "cell_type": "code",
      "execution_count": 4,
      "metadata": {
        "id": "F6h7bPmjV2sq"
      },
      "outputs": [],
      "source": [
        "import numpy as np\n",
        "import cv2\n",
        "from skimage.filters import prewitt_h, prewitt_v\n",
        "from skimage.morphology import closing, square\n",
        "from skimage.color import rgb2gray\n",
        "\n",
        "# Function to apply Prewitt operator\n",
        "def prewitt_operator(image):\n",
        "    # Convert image to grayscale\n",
        "    gray_image = rgb2gray(image)\n",
        "    # Apply Prewitt operator horizontally and vertically\n",
        "    edges_horizontal = prewitt_h(gray_image)\n",
        "    edges_vertical = prewitt_v(gray_image)\n",
        "    # Combine horizontal and vertical edges\n",
        "    edges = np.sqrt(edges_horizontal**2 + edges_vertical**2)\n",
        "    return edges\n",
        "\n",
        "# Function to apply morphological edge detection\n",
        "def morphological_edge_detection(image):\n",
        "    # Convert image to grayscale\n",
        "    gray_image = rgb2gray(image)\n",
        "    # Apply morphological closing\n",
        "    closed_image = closing(gray_image, square(3))\n",
        "    # Compute edges by subtracting the closed image from the original\n",
        "    edges = gray_image - closed_image\n",
        "    return edges"
      ]
    },
    {
      "cell_type": "markdown",
      "source": [
        "create list with images (2000,128,128)(2000) and flat the keys"
      ],
      "metadata": {
        "id": "yd3ulX5lYU_j"
      }
    },
    {
      "cell_type": "code",
      "execution_count": 5,
      "metadata": {
        "id": "OsSvnt_Qijip"
      },
      "outputs": [],
      "source": [
        "def preprocess_image(image_paths):\n",
        "    edge_images = []\n",
        "    for img_path in image_paths:\n",
        "        # Load the image\n",
        "        img = cv2.imread(img_path)\n",
        "        if img is None:\n",
        "            print(f\"Failed to load image from path: {img_path}\")\n",
        "            continue\n",
        "        # Apply Prewitt operator\n",
        "        prewitt_edges = prewitt_operator(img)\n",
        "        # Apply morphological edge detection\n",
        "        morphological_edges = morphological_edge_detection(img)\n",
        "        # Combine both edge images (optional)\n",
        "        combined_edges = prewitt_edges + morphological_edges  # You can use other operations as well\n",
        "        # Ensure all images have the same shape\n",
        "        combined_edges_resized = cv2.resize(combined_edges, (128, 128))  # Adjust desired_width and desired_height as needed\n",
        "        # Flatten the image\n",
        "        flattened_image = combined_edges_resized.ravel()\n",
        "        # Append the flattened image to the list\n",
        "        edge_images.append(flattened_image)\n",
        "    return edge_images"
      ]
    },
    {
      "cell_type": "markdown",
      "source": [
        "store X and y set sizes(2000, 16384) (2000)"
      ],
      "metadata": {
        "id": "HDDeFIckYxIX"
      }
    },
    {
      "cell_type": "code",
      "execution_count": 6,
      "metadata": {
        "id": "K_sT50_RWeOc"
      },
      "outputs": [],
      "source": [
        "# Process images and store combined edge images\n",
        "cat_dog_df_edge = preprocess_image(cat_dog_df['image_path'])"
      ]
    },
    {
      "cell_type": "code",
      "source": [
        "X = np.array(cat_dog_df_edge)\n",
        "# Extract labels from the concatenated dataframe\n",
        "y = cat_dog_df[\"Target\"]"
      ],
      "metadata": {
        "id": "p-JnLKo4nFJa"
      },
      "execution_count": 7,
      "outputs": []
    },
    {
      "cell_type": "code",
      "source": [
        "X.shape, y.shape"
      ],
      "metadata": {
        "colab": {
          "base_uri": "https://localhost:8080/"
        },
        "id": "gqYTo6lw7Lwb",
        "outputId": "9f2b35ef-3988-4fc4-ed93-51f3720b7ad2"
      },
      "execution_count": 8,
      "outputs": [
        {
          "output_type": "execute_result",
          "data": {
            "text/plain": [
              "((2000, 16384), (2000,))"
            ]
          },
          "metadata": {},
          "execution_count": 8
        }
      ]
    },
    {
      "cell_type": "markdown",
      "source": [
        "split the dataset training 80% and test 20%"
      ],
      "metadata": {
        "id": "mtPfMzpYZT8X"
      }
    },
    {
      "cell_type": "code",
      "source": [
        "from sklearn.model_selection import train_test_split\n",
        "X_train, X_test, y_train, y_test = train_test_split(X, y, test_size=0.2, random_state=42)"
      ],
      "metadata": {
        "id": "Kx1h9IGubDKG"
      },
      "execution_count": 9,
      "outputs": []
    },
    {
      "cell_type": "markdown",
      "source": [
        "performing pipeline PCA and Logistic Regression"
      ],
      "metadata": {
        "id": "7U_APw-ZghAQ"
      }
    },
    {
      "cell_type": "code",
      "source": [
        "from sklearn.decomposition import PCA\n",
        "from sklearn.linear_model import LogisticRegression\n",
        "from sklearn.pipeline import make_pipeline\n",
        "pipe_lr = make_pipeline(PCA(n_components=50),\n",
        "                        LogisticRegression(penalty='l2',\n",
        "                                           max_iter=1000))\n",
        "pipe_lr.fit(X_train, y_train)\n",
        "y_pred = pipe_lr.predict(X_test)\n",
        "test_acc = pipe_lr.score(X_test, y_test)\n",
        "print(f'Test accuracy: {test_acc:.3f}')"
      ],
      "metadata": {
        "colab": {
          "base_uri": "https://localhost:8080/"
        },
        "id": "o3oXNnMQa0jR",
        "outputId": "0cffec8c-5860-49f4-9fba-212159b1b86d"
      },
      "execution_count": 18,
      "outputs": [
        {
          "output_type": "stream",
          "name": "stdout",
          "text": [
            "Test accuracy: 0.560\n"
          ]
        }
      ]
    },
    {
      "cell_type": "markdown",
      "source": [
        "performing Grid Search on PCA and SVC"
      ],
      "metadata": {
        "id": "qD8Mt8U4gwVX"
      }
    },
    {
      "cell_type": "code",
      "source": [
        "from sklearn.model_selection import GridSearchCV\n",
        "from sklearn.svm import SVC\n",
        "from sklearn.preprocessing import StandardScaler\n",
        "from sklearn.decomposition import PCA\n",
        "from sklearn.pipeline import Pipeline\n",
        "\n",
        "\n",
        "# Define the pipeline with a scaler, PCA, and SVC\n",
        "pipeline = Pipeline([\n",
        "    ('scaler', StandardScaler()),\n",
        "    ('pca', PCA()),\n",
        "    ('svc', SVC())\n",
        "])\n",
        "\n",
        "# Define the parameter grid\n",
        "param_grid = {\n",
        "    'pca__n_components': [50, 100],  # Number of components for PCA\n",
        "    'svc__C': [0.1, 1, 10, 100, 1000],  # Values for C\n",
        "    'svc__gamma': [0.001, 0.01, 0.1, 1, 10]  # Values for gamma\n",
        "}\n",
        "\n",
        "# Perform grid search\n",
        "grid_search = GridSearchCV(pipeline, param_grid, cv=5, n_jobs=-1)\n",
        "grid_search.fit(X_train, y_train)\n",
        "\n",
        "# Print the best parameters and best score\n",
        "print(\"Best Parameters:\", grid_search.best_params_)\n",
        "print(\"Best Score:\", grid_search.best_score_)\n",
        "\n",
        "# Evaluate the model on the test set\n",
        "accuracy = grid_search.score(X_test, y_test)\n",
        "print(\"Test Accuracy:\", accuracy)\n"
      ],
      "metadata": {
        "colab": {
          "base_uri": "https://localhost:8080/"
        },
        "id": "Y1fvQIQ74ZPX",
        "outputId": "ed6848c6-9987-48d1-b369-edbc931981bc"
      },
      "execution_count": 11,
      "outputs": [
        {
          "output_type": "stream",
          "name": "stdout",
          "text": [
            "Best Parameters: {'pca__n_components': 50, 'svc__C': 1, 'svc__gamma': 0.001}\n",
            "Best Score: 0.60375\n",
            "Test Accuracy: 0.6025\n"
          ]
        }
      ]
    },
    {
      "cell_type": "markdown",
      "source": [
        "performing pipeline PCA and SVC with best parameters"
      ],
      "metadata": {
        "id": "SECrjFQ6hMv8"
      }
    },
    {
      "cell_type": "code",
      "source": [
        "# Define the pipeline with a scaler, PCA, and SVC with fixed hyperparameters\n",
        "pipe_SVC = Pipeline([\n",
        "    ('scaler', StandardScaler()),\n",
        "    ('pca', PCA(n_components=50)),\n",
        "    ('svc', SVC(C=1.0, gamma=0.001, kernel='rbf'))\n",
        "])\n",
        "\n",
        "# Fit the pipeline to the training data\n",
        "pipe_SVC.fit(X_train, y_train)"
      ],
      "metadata": {
        "colab": {
          "base_uri": "https://localhost:8080/",
          "height": 159
        },
        "id": "xVlOMFik8RRg",
        "outputId": "aaf04908-1afd-431d-af1d-742eede605b3"
      },
      "execution_count": 19,
      "outputs": [
        {
          "output_type": "execute_result",
          "data": {
            "text/plain": [
              "Pipeline(steps=[('scaler', StandardScaler()), ('pca', PCA(n_components=50)),\n",
              "                ('svc', SVC(gamma=0.001))])"
            ],
            "text/html": [
              "<style>#sk-container-id-1 {color: black;background-color: white;}#sk-container-id-1 pre{padding: 0;}#sk-container-id-1 div.sk-toggleable {background-color: white;}#sk-container-id-1 label.sk-toggleable__label {cursor: pointer;display: block;width: 100%;margin-bottom: 0;padding: 0.3em;box-sizing: border-box;text-align: center;}#sk-container-id-1 label.sk-toggleable__label-arrow:before {content: \"▸\";float: left;margin-right: 0.25em;color: #696969;}#sk-container-id-1 label.sk-toggleable__label-arrow:hover:before {color: black;}#sk-container-id-1 div.sk-estimator:hover label.sk-toggleable__label-arrow:before {color: black;}#sk-container-id-1 div.sk-toggleable__content {max-height: 0;max-width: 0;overflow: hidden;text-align: left;background-color: #f0f8ff;}#sk-container-id-1 div.sk-toggleable__content pre {margin: 0.2em;color: black;border-radius: 0.25em;background-color: #f0f8ff;}#sk-container-id-1 input.sk-toggleable__control:checked~div.sk-toggleable__content {max-height: 200px;max-width: 100%;overflow: auto;}#sk-container-id-1 input.sk-toggleable__control:checked~label.sk-toggleable__label-arrow:before {content: \"▾\";}#sk-container-id-1 div.sk-estimator input.sk-toggleable__control:checked~label.sk-toggleable__label {background-color: #d4ebff;}#sk-container-id-1 div.sk-label input.sk-toggleable__control:checked~label.sk-toggleable__label {background-color: #d4ebff;}#sk-container-id-1 input.sk-hidden--visually {border: 0;clip: rect(1px 1px 1px 1px);clip: rect(1px, 1px, 1px, 1px);height: 1px;margin: -1px;overflow: hidden;padding: 0;position: absolute;width: 1px;}#sk-container-id-1 div.sk-estimator {font-family: monospace;background-color: #f0f8ff;border: 1px dotted black;border-radius: 0.25em;box-sizing: border-box;margin-bottom: 0.5em;}#sk-container-id-1 div.sk-estimator:hover {background-color: #d4ebff;}#sk-container-id-1 div.sk-parallel-item::after {content: \"\";width: 100%;border-bottom: 1px solid gray;flex-grow: 1;}#sk-container-id-1 div.sk-label:hover label.sk-toggleable__label {background-color: #d4ebff;}#sk-container-id-1 div.sk-serial::before {content: \"\";position: absolute;border-left: 1px solid gray;box-sizing: border-box;top: 0;bottom: 0;left: 50%;z-index: 0;}#sk-container-id-1 div.sk-serial {display: flex;flex-direction: column;align-items: center;background-color: white;padding-right: 0.2em;padding-left: 0.2em;position: relative;}#sk-container-id-1 div.sk-item {position: relative;z-index: 1;}#sk-container-id-1 div.sk-parallel {display: flex;align-items: stretch;justify-content: center;background-color: white;position: relative;}#sk-container-id-1 div.sk-item::before, #sk-container-id-1 div.sk-parallel-item::before {content: \"\";position: absolute;border-left: 1px solid gray;box-sizing: border-box;top: 0;bottom: 0;left: 50%;z-index: -1;}#sk-container-id-1 div.sk-parallel-item {display: flex;flex-direction: column;z-index: 1;position: relative;background-color: white;}#sk-container-id-1 div.sk-parallel-item:first-child::after {align-self: flex-end;width: 50%;}#sk-container-id-1 div.sk-parallel-item:last-child::after {align-self: flex-start;width: 50%;}#sk-container-id-1 div.sk-parallel-item:only-child::after {width: 0;}#sk-container-id-1 div.sk-dashed-wrapped {border: 1px dashed gray;margin: 0 0.4em 0.5em 0.4em;box-sizing: border-box;padding-bottom: 0.4em;background-color: white;}#sk-container-id-1 div.sk-label label {font-family: monospace;font-weight: bold;display: inline-block;line-height: 1.2em;}#sk-container-id-1 div.sk-label-container {text-align: center;}#sk-container-id-1 div.sk-container {/* jupyter's `normalize.less` sets `[hidden] { display: none; }` but bootstrap.min.css set `[hidden] { display: none !important; }` so we also need the `!important` here to be able to override the default hidden behavior on the sphinx rendered scikit-learn.org. See: https://github.com/scikit-learn/scikit-learn/issues/21755 */display: inline-block !important;position: relative;}#sk-container-id-1 div.sk-text-repr-fallback {display: none;}</style><div id=\"sk-container-id-1\" class=\"sk-top-container\"><div class=\"sk-text-repr-fallback\"><pre>Pipeline(steps=[(&#x27;scaler&#x27;, StandardScaler()), (&#x27;pca&#x27;, PCA(n_components=50)),\n",
              "                (&#x27;svc&#x27;, SVC(gamma=0.001))])</pre><b>In a Jupyter environment, please rerun this cell to show the HTML representation or trust the notebook. <br />On GitHub, the HTML representation is unable to render, please try loading this page with nbviewer.org.</b></div><div class=\"sk-container\" hidden><div class=\"sk-item sk-dashed-wrapped\"><div class=\"sk-label-container\"><div class=\"sk-label sk-toggleable\"><input class=\"sk-toggleable__control sk-hidden--visually\" id=\"sk-estimator-id-1\" type=\"checkbox\" ><label for=\"sk-estimator-id-1\" class=\"sk-toggleable__label sk-toggleable__label-arrow\">Pipeline</label><div class=\"sk-toggleable__content\"><pre>Pipeline(steps=[(&#x27;scaler&#x27;, StandardScaler()), (&#x27;pca&#x27;, PCA(n_components=50)),\n",
              "                (&#x27;svc&#x27;, SVC(gamma=0.001))])</pre></div></div></div><div class=\"sk-serial\"><div class=\"sk-item\"><div class=\"sk-estimator sk-toggleable\"><input class=\"sk-toggleable__control sk-hidden--visually\" id=\"sk-estimator-id-2\" type=\"checkbox\" ><label for=\"sk-estimator-id-2\" class=\"sk-toggleable__label sk-toggleable__label-arrow\">StandardScaler</label><div class=\"sk-toggleable__content\"><pre>StandardScaler()</pre></div></div></div><div class=\"sk-item\"><div class=\"sk-estimator sk-toggleable\"><input class=\"sk-toggleable__control sk-hidden--visually\" id=\"sk-estimator-id-3\" type=\"checkbox\" ><label for=\"sk-estimator-id-3\" class=\"sk-toggleable__label sk-toggleable__label-arrow\">PCA</label><div class=\"sk-toggleable__content\"><pre>PCA(n_components=50)</pre></div></div></div><div class=\"sk-item\"><div class=\"sk-estimator sk-toggleable\"><input class=\"sk-toggleable__control sk-hidden--visually\" id=\"sk-estimator-id-4\" type=\"checkbox\" ><label for=\"sk-estimator-id-4\" class=\"sk-toggleable__label sk-toggleable__label-arrow\">SVC</label><div class=\"sk-toggleable__content\"><pre>SVC(gamma=0.001)</pre></div></div></div></div></div></div></div>"
            ]
          },
          "metadata": {},
          "execution_count": 19
        }
      ]
    },
    {
      "cell_type": "code",
      "source": [
        "from sklearn.metrics import accuracy_score\n",
        "\n",
        "# Make predictions on the test set\n",
        "y_pred = pipe_SVC.predict(X_test)\n",
        "\n",
        "# Calculate accuracy\n",
        "accuracy = accuracy_score(y_test, y_pred)\n",
        "print(\"Accuracy:\", accuracy)"
      ],
      "metadata": {
        "colab": {
          "base_uri": "https://localhost:8080/"
        },
        "id": "UXnIklbN-oIV",
        "outputId": "bb7e15f9-f3f0-428a-c4ca-b850b7ebd386"
      },
      "execution_count": 20,
      "outputs": [
        {
          "output_type": "stream",
          "name": "stdout",
          "text": [
            "Accuracy: 0.5925\n"
          ]
        }
      ]
    },
    {
      "cell_type": "markdown",
      "source": [
        "performing GridSearch with Random Forest"
      ],
      "metadata": {
        "id": "llOIxPjTts7y"
      }
    },
    {
      "cell_type": "code",
      "source": [
        "from sklearn.model_selection import GridSearchCV\n",
        "from sklearn.ensemble import RandomForestClassifier\n",
        "from sklearn.metrics import accuracy_score\n",
        "\n",
        "# Define the parameter grid\n",
        "param_grid = {\n",
        "        'n_estimators': [100, 250, 500],\n",
        "        'max_depth': [None, 5, 10, 20],\n",
        "        'criterion': ['gini', 'entropy']\n",
        "        }\n",
        "\n",
        "# Instantiate the Random Forest classifier\n",
        "rf_classifier = RandomForestClassifier()\n",
        "\n",
        "# Instantiate GridSearchCV\n",
        "grid_search = GridSearchCV(estimator=rf_classifier, param_grid=param_grid, cv=5, scoring='accuracy', n_jobs=-1)\n",
        "\n",
        "# Perform grid search\n",
        "grid_search.fit(X_train, y_train)\n",
        "\n",
        "# Print the best parameters and best score\n",
        "print(\"Best Parameters:\", grid_search.best_params_)\n",
        "print(\"Best Score:\", grid_search.best_score_)\n",
        "\n",
        "# Evaluate the model on the test set\n",
        "accuracy = grid_search.score(X_test, y_test)\n",
        "print(\"Test Accuracy:\", accuracy)\n"
      ],
      "metadata": {
        "colab": {
          "base_uri": "https://localhost:8080/"
        },
        "id": "PAE4pLUlh29M",
        "outputId": "b4859172-502b-42c1-ce0c-09badf310f25"
      },
      "execution_count": 21,
      "outputs": [
        {
          "output_type": "stream",
          "name": "stdout",
          "text": [
            "Best Parameters: {'criterion': 'entropy', 'max_depth': 10, 'n_estimators': 250}\n",
            "Best Score: 0.631875\n",
            "Test Accuracy: 0.6075\n"
          ]
        }
      ]
    },
    {
      "cell_type": "markdown",
      "source": [
        "Applying best parameters to Random Forest"
      ],
      "metadata": {
        "id": "jQt_eDCIuIjl"
      }
    },
    {
      "cell_type": "code",
      "source": [
        "# Define a function to train a Random Forest classifier\n",
        "from sklearn.ensemble import RandomForestClassifier\n",
        "from sklearn.metrics import accuracy_score\n",
        "\n",
        "def train_random_forest(X_train, y_train):\n",
        "    rf_classifier = RandomForestClassifier(n_estimators=250, max_depth=10, criterion='gini')\n",
        "    rf_classifier.fit(X_train, y_train)\n",
        "\n",
        "    return rf_classifier\n",
        "\n",
        "# Train the Random Forest classifier\n",
        "rf_classifier = train_random_forest(X_train, y_train)\n",
        "\n",
        "# Make predictions on the test set\n",
        "y_pred = rf_classifier.predict(X_test)\n",
        "\n",
        "# Calculate accuracy\n",
        "accuracy = accuracy_score(y_test, y_pred)\n",
        "print(\"Test Accuracy:\", accuracy)"
      ],
      "metadata": {
        "colab": {
          "base_uri": "https://localhost:8080/"
        },
        "id": "9_1582cAI_5T",
        "outputId": "3ee69905-ab24-453b-c9d2-955a62c6ead9"
      },
      "execution_count": 24,
      "outputs": [
        {
          "output_type": "stream",
          "name": "stdout",
          "text": [
            "Test Accuracy: 0.61\n"
          ]
        }
      ]
    },
    {
      "cell_type": "markdown",
      "source": [
        "Performing knn"
      ],
      "metadata": {
        "id": "CE2mnZrhxlcR"
      }
    },
    {
      "cell_type": "code",
      "source": [
        "from sklearn.neighbors import KNeighborsClassifier\n",
        "\n",
        "# Initialize and train k-NN classifier\n",
        "knn_classifier = KNeighborsClassifier(n_neighbors=2)\n",
        "knn_classifier.fit(X_train, y_train)\n",
        "\n",
        "# Predict labels for test set\n",
        "y_pred = knn_classifier.predict(X_test)\n",
        "\n",
        "# Calculate accuracy\n",
        "accuracy = accuracy_score(y_test, y_pred)\n",
        "print(\"Test Accuracy:\", accuracy)"
      ],
      "metadata": {
        "colab": {
          "base_uri": "https://localhost:8080/"
        },
        "id": "ZgAGlqHBN3ea",
        "outputId": "9a47600b-a57a-4b9c-97f7-4fe84d565238"
      },
      "execution_count": 25,
      "outputs": [
        {
          "output_type": "stream",
          "name": "stdout",
          "text": [
            "Test Accuracy: 0.5225\n"
          ]
        }
      ]
    }
  ],
  "metadata": {
    "colab": {
      "gpuType": "T4",
      "provenance": []
    },
    "kernelspec": {
      "display_name": "Python 3",
      "name": "python3"
    },
    "language_info": {
      "name": "python"
    }
  },
  "nbformat": 4,
  "nbformat_minor": 0
}