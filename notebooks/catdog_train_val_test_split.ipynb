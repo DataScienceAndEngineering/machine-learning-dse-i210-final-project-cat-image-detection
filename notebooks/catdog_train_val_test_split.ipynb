{
 "cells": [
  {
   "cell_type": "code",
   "execution_count": 4,
   "metadata": {},
   "outputs": [],
   "source": [
    "from sklearn.model_selection import train_test_split\n",
    "import numpy as np\n",
    "import cv2 \n",
    "import os\n",
    "from PIL import Image\n",
    "from shutil import copyfile"
   ]
  },
  {
   "cell_type": "markdown",
   "metadata": {},
   "source": [
    "Create training and test sets of cats and dogs"
   ]
  },
  {
   "cell_type": "code",
   "execution_count": 2,
   "metadata": {},
   "outputs": [],
   "source": [
    "datapath = '/media/ryan/New Volume/datasets/kagglecatsanddogs_5340/PetImages'\n",
    "all_cats = datapath + '/Cat'\n",
    "all_dogs = datapath + '/Dog'\n",
    "train_path = datapath + '/Train'\n",
    "test_path = datapath + '/Test'"
   ]
  },
  {
   "cell_type": "markdown",
   "metadata": {},
   "source": [
    "Splitting images into test and train and converting images into grayscale\n",
    "\n",
    "\n",
    "When re running for cats and dogs, make sure to change the target_directory accordingly (choosing /Cat or /Dog)"
   ]
  },
  {
   "cell_type": "code",
   "execution_count": 17,
   "metadata": {},
   "outputs": [
    {
     "name": "stderr",
     "output_type": "stream",
     "text": [
      "/home/ryan/anaconda3/envs/catdog/lib/python3.9/site-packages/PIL/TiffImagePlugin.py:870: UserWarning: Truncated File Read\n",
      "  warnings.warn(str(msg))\n"
     ]
    },
    {
     "name": "stdout",
     "output_type": "stream",
     "text": [
      "Conversion to grayscale completed!\n"
     ]
    }
   ],
   "source": [
    "# Define the directory containing the original .jpg files\n",
    "source_directory = all_dogs\n",
    "\n",
    "# Define the directory where grayscale images will be saved\n",
    "first_target_directory = train_path + '/Dog'\n",
    "\n",
    "# Define the directory where the remaining grayscale images will be saved\n",
    "second_target_directory = test_path + '/Dog'\n",
    "\n",
    "# Create the target directories if they don't exist\n",
    "if not os.path.exists(first_target_directory):\n",
    "    os.makedirs(first_target_directory)\n",
    "if not os.path.exists(second_target_directory):\n",
    "    os.makedirs(second_target_directory)\n",
    "\n",
    "# Create the target directories if they don't exist\n",
    "if not os.path.exists(first_target_directory):\n",
    "    os.makedirs(first_target_directory)\n",
    "if not os.path.exists(second_target_directory):\n",
    "    os.makedirs(second_target_directory)\n",
    "\n",
    "# Iterate through all files in the source directory\n",
    "for filename in sorted(os.listdir(source_directory)):\n",
    "    if filename != 'Thumbs.db' and filename.endswith('.jpg'):\n",
    "        # Get the image number from the filename\n",
    "        image_number = int(filename.split('.')[0])\n",
    "        \n",
    "        # Decide the target directory based on the image number\n",
    "        if image_number < 11000:\n",
    "            target_directory = first_target_directory\n",
    "        else:\n",
    "            target_directory = second_target_directory\n",
    "        \n",
    "        # Construct the full file path\n",
    "        file_path = os.path.join(source_directory, filename)\n",
    "        \n",
    "        # Open the image\n",
    "        with Image.open(file_path) as img:\n",
    "            # Convert the image to grayscale\n",
    "            grayscale_img = img.convert('L')\n",
    "            \n",
    "            # Construct the full path for the destination\n",
    "            grayscale_path = os.path.join(target_directory, filename)\n",
    "            \n",
    "            # Save the grayscale image\n",
    "            grayscale_img.save(grayscale_path)\n",
    "\n",
    "print(\"Conversion to grayscale completed!\")\n"
   ]
  },
  {
   "cell_type": "markdown",
   "metadata": {},
   "source": [
    "After the split into test and train realised we needed a val set too, took the first 1000 images ofthe test set to create the validation set\n",
    "\n",
    "In this code create the Val directories for Cat and Dog first."
   ]
  },
  {
   "cell_type": "code",
   "execution_count": 11,
   "metadata": {},
   "outputs": [
    {
     "name": "stdout",
     "output_type": "stream",
     "text": [
      "Image transfer completed!\n"
     ]
    }
   ],
   "source": [
    "# Iterate through all files in the source directory\n",
    "first_dir = test_path + '/Dog'\n",
    "new_dir = datapath + '/Val/Dog'\n",
    "\n",
    "for filename in sorted(os.listdir(first_dir)):\n",
    "    # Get the image number from the filename\n",
    "    image_number = int(filename.split('.')[0])\n",
    "    \n",
    "    # Decide the target directory based on the image number\n",
    "    if image_number < 12000:\n",
    "        target_directory = new_dir\n",
    "    \n",
    "        # Construct the full file paths\n",
    "        source_file_path = os.path.join(first_dir, filename)\n",
    "        target_file_path = os.path.join(target_directory, filename)\n",
    "    \n",
    "        # Copy the file to the target directory\n",
    "        copyfile(source_file_path, target_file_path)\n",
    "        os.remove(source_file_path)\n",
    "\n",
    "print(\"Image transfer completed!\")\n",
    "\n"
   ]
  },
  {
   "cell_type": "markdown",
   "metadata": {},
   "source": [
    "Now for both cats and dogs (12500 images each)\n",
    "\n",
    "Train on first 11000 images\n",
    "\n",
    "Validate on next 1000 images\n",
    "\n",
    "Test on last 500 images"
   ]
  }
 ],
 "metadata": {
  "kernelspec": {
   "display_name": "catdog",
   "language": "python",
   "name": "python3"
  },
  "language_info": {
   "codemirror_mode": {
    "name": "ipython",
    "version": 3
   },
   "file_extension": ".py",
   "mimetype": "text/x-python",
   "name": "python",
   "nbconvert_exporter": "python",
   "pygments_lexer": "ipython3",
   "version": "3.9.19"
  }
 },
 "nbformat": 4,
 "nbformat_minor": 2
}
