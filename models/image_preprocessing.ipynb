{
  "nbformat": 4,
  "nbformat_minor": 0,
  "metadata": {
    "colab": {
      "provenance": []
    },
    "kernelspec": {
      "name": "python3",
      "display_name": "Python 3"
    },
    "language_info": {
      "name": "python"
    }
  },
  "cells": [
    {
      "cell_type": "markdown",
      "source": [
        "Functions to preprocessing images in HSV, HOG, RGB, LAB features"
      ],
      "metadata": {
        "id": "EzHm6UVjAxyH"
      }
    },
    {
      "cell_type": "code",
      "execution_count": 1,
      "metadata": {
        "id": "VQIRJ4RcAiGR"
      },
      "outputs": [],
      "source": [
        "from skimage.feature import hog\n",
        "from skimage import io, color, transform, exposure\n",
        "import numpy as np\n",
        "import matplotlib.pyplot as plt\n",
        "import cv2\n",
        "\n",
        "#performing HSV, applying HOG over Value component\n",
        "def hsv_hog_features(img_path, resize_dim=(128, 128), pixels_per_cell=(8, 8), cells_per_block=(2, 2)):\n",
        "    try:\n",
        "        # Read the image\n",
        "        image = io.imread(img_path)\n",
        "\n",
        "        # Resize the image\n",
        "        img_resized = transform.resize(image, resize_dim, anti_aliasing=True)\n",
        "\n",
        "        # Convert the image to HSV\n",
        "        image_hsv = color.rgb2hsv(img_resized)\n",
        "\n",
        "        # Separate the HSV channels\n",
        "        hue_channel = image_hsv[:, :, 0]\n",
        "        saturation_channel = image_hsv[:, :, 1]\n",
        "        value_channel = image_hsv[:, :, 2]\n",
        "\n",
        "        orientations = 9\n",
        "\n",
        "        hog_features = hog(value_channel,\n",
        "                          orientations=orientations,\n",
        "                          pixels_per_cell=pixels_per_cell,\n",
        "                          cells_per_block=cells_per_block,\n",
        "                          block_norm='L2-Hys',\n",
        "                          visualize=False)\n",
        "\n",
        "        return hue_channel, saturation_channel, hog_features\n",
        "\n",
        "    except Exception as e:\n",
        "        print(f\"Error in image {img_path}: {str(e)}\")\n",
        "        return None, None, None\n",
        "\n",
        "\n",
        "#performing RGB on resized image\n",
        "def RGB_features(img_path, resize_dim=(128, 128)):\n",
        "    try:\n",
        "        # Read the image\n",
        "        image = io.imread(img_path)\n",
        "\n",
        "        # Resize the image\n",
        "        img_resized = transform.resize(image, resize_dim, anti_aliasing=True)\n",
        "        # Split the image into color channels\n",
        "        red_channel = image[:, :, 0]\n",
        "        green_channel = image[:, :, 1]\n",
        "        blue_channel = image[:, :, 2]\n",
        "        return red_channel, green_channel, blue_channel\n",
        "\n",
        "    except Exception as e:\n",
        "        print(f\"Error in image {img_path}: {str(e)}\")\n",
        "        return None, None, None\n",
        "\n",
        "\n",
        "#performing RGB on resized image as flattened features\n",
        "def flattened_RGB_features(img_path, resize_dim=(128, 128)):\n",
        "    try:\n",
        "        # Read the image\n",
        "        image = io.imread(img_path)\n",
        "\n",
        "        # Resize the image\n",
        "        img_resized = transform.resize(image, resize_dim, anti_aliasing=True)\n",
        "\n",
        "        # Flatten the RGB channels\n",
        "        red_channel = img_resized[:, :, 0].flatten()\n",
        "        green_channel = img_resized[:, :, 1].flatten()\n",
        "        blue_channel = img_resized[:, :, 2].flatten()\n",
        "\n",
        "        return red_channel, green_channel, blue_channel\n",
        "\n",
        "    except Exception as e:\n",
        "        print(f\"Error in image {img_path}: {str(e)}\")\n",
        "        return None, None, None\n",
        "\n",
        "\n",
        "\n",
        "#performing LAB on resized image\n",
        "def LAB_features(img_path, resize_dim=(128, 128)):\n",
        "    try:\n",
        "        # Read the image\n",
        "        image = io.imread(img_path)\n",
        "\n",
        "        # Resize the image\n",
        "        img_resized = transform.resize(image, resize_dim, anti_aliasing=True)\n",
        "\n",
        "        lab_image = color.rgb2lab(img_resized)\n",
        "\n",
        "        # Split the LAB image into its components\n",
        "        L_channel = lab_image[:, :, 0].flatten()\n",
        "        A_channel = lab_image[:, :, 1].flatten()\n",
        "        B_channel = lab_image[:, :, 2].flatten()\n",
        "\n",
        "\n",
        "        return L_channel, A_channel, B_channel\n",
        "\n",
        "    except Exception as e:\n",
        "        print(f\"Error in image {img_path}: {str(e)}\")\n",
        "        return None, None, None"
      ]
    },
    {
      "cell_type": "code",
      "source": [],
      "metadata": {
        "id": "WwMjRahQA2h5"
      },
      "execution_count": null,
      "outputs": []
    }
  ]
}