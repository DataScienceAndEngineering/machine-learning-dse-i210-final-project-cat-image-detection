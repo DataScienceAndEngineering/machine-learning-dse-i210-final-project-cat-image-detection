{
 "cells": [
  {
   "cell_type": "markdown",
   "metadata": {},
   "source": [
    "Random Forest Classifier \n",
    "\n",
    "\n",
    "Raw pixel values of the images without extracting features"
   ]
  },
  {
   "cell_type": "markdown",
   "metadata": {},
   "source": [
    "two empty lists, images and labels, which will be used to store the flattened images and their corresponding labels (0 for cats and 1 for dogs), respectively."
   ]
  },
  {
   "cell_type": "code",
   "execution_count": 24,
   "metadata": {},
   "outputs": [],
   "source": [
    "import cv2\n",
    "import numpy as np\n",
    "import os\n",
    "from sklearn.ensemble import RandomForestClassifier\n",
    "from skimage import io\n",
    "import shutil\n"
   ]
  },
  {
   "cell_type": "code",
   "execution_count": 29,
   "metadata": {},
   "outputs": [],
   "source": [
    "# Paths to the directories containing Cat and Dog folders\n",
    "base_path = \"/Users/blanchepenafiel/Desktop/Dataset\"\n",
    "train_path= os.path.join(base_path, \"Train\")\n",
    "cat_path = os.path.join(base_path, \"Train\", \"Cat\")\n",
    "dog_path = os.path.join(base_path, \"Train\", \"Dog\")\n",
    "cat_val_path=os.path.join(base_path, \"Val\", \"Cat\")\n",
    "dog_val_path=os.path.join(base_path, \"Val\", \"Dog\")"
   ]
  },
  {
   "cell_type": "code",
   "execution_count": 20,
   "metadata": {},
   "outputs": [
    {
     "name": "stderr",
     "output_type": "stream",
     "text": [
      "Corrupt JPEG data: 214 extraneous bytes before marker 0xd9\n",
      "Corrupt JPEG data: 65 extraneous bytes before marker 0xd9\n",
      "Corrupt JPEG data: 226 extraneous bytes before marker 0xd9\n"
     ]
    },
    {
     "name": "stdout",
     "output_type": "stream",
     "text": [
      "Subsets created successfully.\n"
     ]
    }
   ],
   "source": [
    "\n",
    "# Function to check if an image is corrupted\n",
    "def is_image_corrupted(image_path):\n",
    "    try:\n",
    "        img = cv2.imread(image_path)\n",
    "        if img is None:\n",
    "            return True\n",
    "        return False\n",
    "    except Exception as e:\n",
    "        print(f\"Error processing image {image_path}: {e}\")\n",
    "        return True\n",
    "\n",
    "# Function to create a subset of non-corrupted images\n",
    "def create_image_subset(input_folder, output_folder, subset_size):\n",
    "    valid_images = []\n",
    "    for filename in os.listdir(input_folder):\n",
    "        if filename.endswith(\".jpg\"):\n",
    "            image_path = os.path.join(input_folder, filename)\n",
    "            if not is_image_corrupted(image_path):\n",
    "                valid_images.append(image_path)\n",
    "                if len(valid_images) >= subset_size:\n",
    "                    break\n",
    "    \n",
    "    # Create output folder if it doesn't exist\n",
    "    if not os.path.exists(output_folder):\n",
    "        os.makedirs(output_folder)\n",
    "    \n",
    "    # Copy valid images to output folder\n",
    "    for image_path in valid_images:\n",
    "        shutil.copy(image_path, output_folder)\n",
    "\n",
    "# Define the subset size\n",
    "subset_size = 5000\n",
    "\n",
    "# Create subsets for cats and dogs\n",
    "create_image_subset(cat_path, os.path.join(train_path, \"train_cat_subset\"), subset_size)\n",
    "create_image_subset(dog_path, os.path.join(train_path, \"train_dog_subset\"), subset_size)\n",
    "\n",
    "print(\"Subsets created successfully.\")\n",
    "\n",
    "\n",
    "\n"
   ]
  },
  {
   "cell_type": "code",
   "execution_count": 23,
   "metadata": {},
   "outputs": [
    {
     "name": "stderr",
     "output_type": "stream",
     "text": [
      "Corrupt JPEG data: 214 extraneous bytes before marker 0xd9\n",
      "Corrupt JPEG data: 65 extraneous bytes before marker 0xd9\n",
      "Corrupt JPEG data: 226 extraneous bytes before marker 0xd9\n"
     ]
    },
    {
     "name": "stdout",
     "output_type": "stream",
     "text": [
      "Images preprocessed successfully.\n"
     ]
    }
   ],
   "source": [
    "\n",
    "\n",
    "# Function to preprocess an image\n",
    "def preprocess_image(image_path, target_size=(224, 224)):\n",
    "    try:\n",
    "        # Load image\n",
    "        img = cv2.imread(image_path)\n",
    "        if img is None:\n",
    "            raise OSError(\"Failed to read image\")\n",
    "        \n",
    "        # Resize image\n",
    "        resized_img = cv2.resize(img, target_size)\n",
    "        \n",
    "        # Normalize image\n",
    "        normalized_img = resized_img / 255.0\n",
    "        \n",
    "        # Flatten image\n",
    "        flattened_img = normalized_img.flatten()\n",
    "        \n",
    "        return flattened_img\n",
    "    except Exception as e:\n",
    "        print(f\"Error processing image {image_path}: {e}\")\n",
    "        return None\n",
    "\n",
    "# Function to preprocess all images in a folder\n",
    "def preprocess_images_in_folder(folder_path, target_size=(224, 224)):\n",
    "    preprocessed_images = []\n",
    "    for filename in os.listdir(folder_path):\n",
    "        if filename.endswith(\".jpg\"):\n",
    "            image_path = os.path.join(folder_path, filename)\n",
    "            preprocessed_image = preprocess_image(image_path, target_size)\n",
    "            if preprocessed_image is not None:\n",
    "                preprocessed_images.append(preprocessed_image)\n",
    "    return np.array(preprocessed_images)\n",
    "\n",
    "# Paths to the directories containing cat and dog subsets\n",
    "base_path = \"/Users/blanchepenafiel/Desktop/Dataset\"\n",
    "train_path = os.path.join(base_path, \"Train\")\n",
    "cat_subset_path = os.path.join(train_path, \"train_cat_subset\")\n",
    "dog_subset_path = os.path.join(train_path, \"train_dog_subset\")\n",
    "\n",
    "# Preprocess cat images\n",
    "cat_images = preprocess_images_in_folder(cat_subset_path)\n",
    "\n",
    "# Preprocess dog images\n",
    "dog_images = preprocess_images_in_folder(dog_subset_path)\n",
    "\n",
    "print(\"Images preprocessed successfully.\")\n"
   ]
  },
  {
   "cell_type": "code",
   "execution_count": 25,
   "metadata": {},
   "outputs": [],
   "source": [
    "# Concatenate cat and dog images and create corresponding labels\n",
    "X_train = np.concatenate([cat_images, dog_images])\n",
    "y_train = np.concatenate([np.zeros(len(cat_images)), np.ones(len(dog_images))])\n",
    "\n",
    "\n"
   ]
  },
  {
   "cell_type": "code",
   "execution_count": 26,
   "metadata": {},
   "outputs": [
    {
     "name": "stdout",
     "output_type": "stream",
     "text": [
      "Random forest model trained successfully.\n"
     ]
    }
   ],
   "source": [
    "# Create and train the random forest model\n",
    "rf1 = RandomForestClassifier(n_estimators=100, random_state=42)\n",
    "rf1.fit(X_train, y_train)\n",
    "\n",
    "print(\"Random forest model trained successfully.\")"
   ]
  },
  {
   "cell_type": "code",
   "execution_count": 31,
   "metadata": {},
   "outputs": [],
   "source": [
    "def load_images(folder_path, target_size=(224, 224, 3)):\n",
    "    images = []\n",
    "    for filename in os.listdir(folder_path):\n",
    "        if filename.endswith(\".jpg\"):\n",
    "            image_path = os.path.join(folder_path, filename)\n",
    "            try:\n",
    "                # Load image\n",
    "                image = cv2.imread(image_path)\n",
    "                if image is None:\n",
    "                    raise OSError(\"Failed to read image\")\n",
    "                # Resize image to a fixed size\n",
    "                resized_image = cv2.resize(image, (target_size[1], target_size[0]))\n",
    "                # Normalize image\n",
    "                normalized_image = resized_image / 255.0  # Scale pixel values to range [0, 1]\n",
    "                # Append normalized image to the list\n",
    "                images.append(normalized_image)\n",
    "            except Exception as e:\n",
    "                print(f\"Error processing image {image_path}: {e}. Skipping...\")\n",
    "    return np.array(images)\n"
   ]
  },
  {
   "cell_type": "code",
   "execution_count": 34,
   "metadata": {},
   "outputs": [
    {
     "name": "stdout",
     "output_type": "stream",
     "text": [
      "Validation accuracy: 0.6418884982420894\n"
     ]
    }
   ],
   "source": [
    "# Load validation images\n",
    "cat_val_images = load_images(cat_val_path)\n",
    "dog_val_images = load_images(dog_val_path)\n",
    "\n",
    "# Flatten and normalize images\n",
    "cat_val_flat = cat_val_images.reshape(len(cat_val_images), -1)\n",
    "dog_val_flat = dog_val_images.reshape(len(dog_val_images), -1)\n",
    "\n",
    "# Concatenate cat and dog validation images\n",
    "X_val = np.concatenate([cat_val_flat, dog_val_flat])\n",
    "\n",
    "# Create corresponding labels for validation data\n",
    "y_val = np.concatenate([np.zeros(len(cat_val_images)), np.ones(len(dog_val_images))])\n",
    "\n",
    "# Evaluate the trained model on the validation data\n",
    "accuracy = rf1.score(X_val, y_val)\n",
    "print(\"Validation accuracy:\", accuracy)\n"
   ]
  },
  {
   "cell_type": "code",
   "execution_count": null,
   "metadata": {},
   "outputs": [],
   "source": []
  }
 ],
 "metadata": {
  "kernelspec": {
   "display_name": "Python 3",
   "language": "python",
   "name": "python3"
  },
  "language_info": {
   "codemirror_mode": {
    "name": "ipython",
    "version": 3
   },
   "file_extension": ".py",
   "mimetype": "text/x-python",
   "name": "python",
   "nbconvert_exporter": "python",
   "pygments_lexer": "ipython3",
   "version": "3.11.1"
  }
 },
 "nbformat": 4,
 "nbformat_minor": 2
}
