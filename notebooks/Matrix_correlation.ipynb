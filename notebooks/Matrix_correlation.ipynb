{
 "cells": [
  {
   "cell_type": "code",
   "execution_count": 4,
   "metadata": {},
   "outputs": [
    {
     "name": "stderr",
     "output_type": "stream",
     "text": [
      "/var/folders/2s/g86ddv0j20x65lyk03vh7cyw0000gn/T/ipykernel_93708/1848612568.py:49: FutureWarning: The default value of numeric_only in DataFrame.corr is deprecated. In a future version, it will default to False. Select only valid columns or specify the value of numeric_only to silence this warning.\n",
      "  correlation_matrix = data.corr()\n"
     ]
    }
   ],
   "source": [
    "import os\n",
    "import cv2\n",
    "import numpy as np\n",
    "import pandas as pd\n",
    "\n",
    "# Function to extract features from images\n",
    "def extract_features(image_path, target_size=(100, 100)):\n",
    "    # Load image\n",
    "    image = cv2.imread(image_path)\n",
    "    if image is None:\n",
    "        print(f\"Failed to load image: {image_path}\")\n",
    "        return None\n",
    "    # Resize image to target size\n",
    "    image = cv2.resize(image, target_size)\n",
    "    # Flatten the resized image into a 1D array\n",
    "    features = image.flatten()\n",
    "    return features\n",
    "\n",
    "# Path to the folder containing images\n",
    "folder_path = \"/Users/blanchepenafiel/Desktop/Dataset/Train/Cat\"\n",
    "\n",
    "# List to store features and labels\n",
    "features_list = []\n",
    "labels_list = []\n",
    "\n",
    "# Loop through each image in the folder\n",
    "for filename in os.listdir(folder_path):\n",
    "    if filename.endswith(\".jpg\"): \n",
    "        # Extract features\n",
    "        image_path = os.path.join(folder_path, filename)\n",
    "        features = extract_features(image_path)\n",
    "        if features is None:\n",
    "            continue\n",
    "        # Add features to the list\n",
    "        features_list.append(features)\n",
    "        # Add label \n",
    "        labels_list.append(\"Cat\")\n",
    "\n",
    "\n",
    "# Convert lists to NumPy arrays\n",
    "features_array = np.array(features_list)\n",
    "labels_array = np.array(labels_list)\n",
    "\n",
    "# Create a DataFrame to store features and labels\n",
    "data = pd.DataFrame(features_array, columns=[f\"pixel_{i}\" for i in range(features_array.shape[1])])\n",
    "data[\"label\"] = labels_array\n",
    "\n",
    "# Perform correlation analysis\n",
    "correlation_matrix = data.corr()\n",
    "\n",
    "# Display correlation matrix\n",
    "print(correlation_matrix)\n"
   ]
  }
 ],
 "metadata": {
  "kernelspec": {
   "display_name": "Python 3",
   "language": "python",
   "name": "python3"
  },
  "language_info": {
   "codemirror_mode": {
    "name": "ipython",
    "version": 3
   },
   "file_extension": ".py",
   "mimetype": "text/x-python",
   "name": "python",
   "nbconvert_exporter": "python",
   "pygments_lexer": "ipython3",
   "version": "3.11.1"
  }
 },
 "nbformat": 4,
 "nbformat_minor": 2
}
