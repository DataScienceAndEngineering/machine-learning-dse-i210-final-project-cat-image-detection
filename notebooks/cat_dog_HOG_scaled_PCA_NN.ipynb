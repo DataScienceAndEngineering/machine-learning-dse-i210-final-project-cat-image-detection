{
  "nbformat": 4,
  "nbformat_minor": 0,
  "metadata": {
    "colab": {
      "provenance": []
    },
    "kernelspec": {
      "name": "python3",
      "display_name": "Python 3"
    },
    "language_info": {
      "name": "python"
    }
  },
  "cells": [
    {
      "cell_type": "code",
      "execution_count": 1,
      "metadata": {
        "id": "4BWmMnU77c5P"
      },
      "outputs": [],
      "source": [
        "cat_set = \"/content/cat\"\n",
        "dog_set = \"/content/dog\""
      ]
    },
    {
      "cell_type": "code",
      "source": [
        "import os\n",
        "import pandas as pd\n",
        "\n",
        "# List the files in the directories\n",
        "img_cat = [os.path.join(cat_set, file) for file in os.listdir(cat_set)[:1000]]\n",
        "img_dog = [os.path.join(dog_set, file) for file in os.listdir(dog_set)[:1000]]\n",
        "\n",
        "cat_df = pd.DataFrame({\"image_path\": img_cat, \"Target\": 1})\n",
        "dog_df = pd.DataFrame({\"image_path\": img_dog, \"Target\": 0})\n",
        "print(len(cat_df), len(dog_df))"
      ],
      "metadata": {
        "colab": {
          "base_uri": "https://localhost:8080/"
        },
        "id": "rzP8D7at7lkh",
        "outputId": "fff7a212-7df2-4d52-f242-8c8acd93d932"
      },
      "execution_count": 4,
      "outputs": [
        {
          "output_type": "stream",
          "name": "stdout",
          "text": [
            "1000 1000\n"
          ]
        }
      ]
    },
    {
      "cell_type": "code",
      "source": [
        "# Concatenate the dataframes\n",
        "cat_dog_df = pd.concat([cat_df, dog_df], ignore_index=True)\n",
        "\n",
        "# Shuffle the combined dataframes\n",
        "cat_dog_df = cat_dog_df.sample(frac=1).reset_index(drop=True)\n",
        "cat_dog_df.head()"
      ],
      "metadata": {
        "colab": {
          "base_uri": "https://localhost:8080/",
          "height": 206
        },
        "id": "TQ3JENO08Hk9",
        "outputId": "46e36792-96a2-4a9b-a54e-1123b042cfe6"
      },
      "execution_count": 5,
      "outputs": [
        {
          "output_type": "execute_result",
          "data": {
            "text/plain": [
              "              image_path  Target\n",
              "0   /content/dog/156.jpg       0\n",
              "1  /content/cat/1981.jpg       1\n",
              "2   /content/dog/926.jpg       0\n",
              "3   /content/dog/906.jpg       0\n",
              "4   /content/dog/801.jpg       0"
            ],
            "text/html": [
              "\n",
              "  <div id=\"df-8222a75b-b6ad-4061-beef-2e36a3ff9016\" class=\"colab-df-container\">\n",
              "    <div>\n",
              "<style scoped>\n",
              "    .dataframe tbody tr th:only-of-type {\n",
              "        vertical-align: middle;\n",
              "    }\n",
              "\n",
              "    .dataframe tbody tr th {\n",
              "        vertical-align: top;\n",
              "    }\n",
              "\n",
              "    .dataframe thead th {\n",
              "        text-align: right;\n",
              "    }\n",
              "</style>\n",
              "<table border=\"1\" class=\"dataframe\">\n",
              "  <thead>\n",
              "    <tr style=\"text-align: right;\">\n",
              "      <th></th>\n",
              "      <th>image_path</th>\n",
              "      <th>Target</th>\n",
              "    </tr>\n",
              "  </thead>\n",
              "  <tbody>\n",
              "    <tr>\n",
              "      <th>0</th>\n",
              "      <td>/content/dog/156.jpg</td>\n",
              "      <td>0</td>\n",
              "    </tr>\n",
              "    <tr>\n",
              "      <th>1</th>\n",
              "      <td>/content/cat/1981.jpg</td>\n",
              "      <td>1</td>\n",
              "    </tr>\n",
              "    <tr>\n",
              "      <th>2</th>\n",
              "      <td>/content/dog/926.jpg</td>\n",
              "      <td>0</td>\n",
              "    </tr>\n",
              "    <tr>\n",
              "      <th>3</th>\n",
              "      <td>/content/dog/906.jpg</td>\n",
              "      <td>0</td>\n",
              "    </tr>\n",
              "    <tr>\n",
              "      <th>4</th>\n",
              "      <td>/content/dog/801.jpg</td>\n",
              "      <td>0</td>\n",
              "    </tr>\n",
              "  </tbody>\n",
              "</table>\n",
              "</div>\n",
              "    <div class=\"colab-df-buttons\">\n",
              "\n",
              "  <div class=\"colab-df-container\">\n",
              "    <button class=\"colab-df-convert\" onclick=\"convertToInteractive('df-8222a75b-b6ad-4061-beef-2e36a3ff9016')\"\n",
              "            title=\"Convert this dataframe to an interactive table.\"\n",
              "            style=\"display:none;\">\n",
              "\n",
              "  <svg xmlns=\"http://www.w3.org/2000/svg\" height=\"24px\" viewBox=\"0 -960 960 960\">\n",
              "    <path d=\"M120-120v-720h720v720H120Zm60-500h600v-160H180v160Zm220 220h160v-160H400v160Zm0 220h160v-160H400v160ZM180-400h160v-160H180v160Zm440 0h160v-160H620v160ZM180-180h160v-160H180v160Zm440 0h160v-160H620v160Z\"/>\n",
              "  </svg>\n",
              "    </button>\n",
              "\n",
              "  <style>\n",
              "    .colab-df-container {\n",
              "      display:flex;\n",
              "      gap: 12px;\n",
              "    }\n",
              "\n",
              "    .colab-df-convert {\n",
              "      background-color: #E8F0FE;\n",
              "      border: none;\n",
              "      border-radius: 50%;\n",
              "      cursor: pointer;\n",
              "      display: none;\n",
              "      fill: #1967D2;\n",
              "      height: 32px;\n",
              "      padding: 0 0 0 0;\n",
              "      width: 32px;\n",
              "    }\n",
              "\n",
              "    .colab-df-convert:hover {\n",
              "      background-color: #E2EBFA;\n",
              "      box-shadow: 0px 1px 2px rgba(60, 64, 67, 0.3), 0px 1px 3px 1px rgba(60, 64, 67, 0.15);\n",
              "      fill: #174EA6;\n",
              "    }\n",
              "\n",
              "    .colab-df-buttons div {\n",
              "      margin-bottom: 4px;\n",
              "    }\n",
              "\n",
              "    [theme=dark] .colab-df-convert {\n",
              "      background-color: #3B4455;\n",
              "      fill: #D2E3FC;\n",
              "    }\n",
              "\n",
              "    [theme=dark] .colab-df-convert:hover {\n",
              "      background-color: #434B5C;\n",
              "      box-shadow: 0px 1px 3px 1px rgba(0, 0, 0, 0.15);\n",
              "      filter: drop-shadow(0px 1px 2px rgba(0, 0, 0, 0.3));\n",
              "      fill: #FFFFFF;\n",
              "    }\n",
              "  </style>\n",
              "\n",
              "    <script>\n",
              "      const buttonEl =\n",
              "        document.querySelector('#df-8222a75b-b6ad-4061-beef-2e36a3ff9016 button.colab-df-convert');\n",
              "      buttonEl.style.display =\n",
              "        google.colab.kernel.accessAllowed ? 'block' : 'none';\n",
              "\n",
              "      async function convertToInteractive(key) {\n",
              "        const element = document.querySelector('#df-8222a75b-b6ad-4061-beef-2e36a3ff9016');\n",
              "        const dataTable =\n",
              "          await google.colab.kernel.invokeFunction('convertToInteractive',\n",
              "                                                    [key], {});\n",
              "        if (!dataTable) return;\n",
              "\n",
              "        const docLinkHtml = 'Like what you see? Visit the ' +\n",
              "          '<a target=\"_blank\" href=https://colab.research.google.com/notebooks/data_table.ipynb>data table notebook</a>'\n",
              "          + ' to learn more about interactive tables.';\n",
              "        element.innerHTML = '';\n",
              "        dataTable['output_type'] = 'display_data';\n",
              "        await google.colab.output.renderOutput(dataTable, element);\n",
              "        const docLink = document.createElement('div');\n",
              "        docLink.innerHTML = docLinkHtml;\n",
              "        element.appendChild(docLink);\n",
              "      }\n",
              "    </script>\n",
              "  </div>\n",
              "\n",
              "\n",
              "<div id=\"df-cf3332ba-3b2c-4ee6-9dc1-55f64e726e7f\">\n",
              "  <button class=\"colab-df-quickchart\" onclick=\"quickchart('df-cf3332ba-3b2c-4ee6-9dc1-55f64e726e7f')\"\n",
              "            title=\"Suggest charts\"\n",
              "            style=\"display:none;\">\n",
              "\n",
              "<svg xmlns=\"http://www.w3.org/2000/svg\" height=\"24px\"viewBox=\"0 0 24 24\"\n",
              "     width=\"24px\">\n",
              "    <g>\n",
              "        <path d=\"M19 3H5c-1.1 0-2 .9-2 2v14c0 1.1.9 2 2 2h14c1.1 0 2-.9 2-2V5c0-1.1-.9-2-2-2zM9 17H7v-7h2v7zm4 0h-2V7h2v10zm4 0h-2v-4h2v4z\"/>\n",
              "    </g>\n",
              "</svg>\n",
              "  </button>\n",
              "\n",
              "<style>\n",
              "  .colab-df-quickchart {\n",
              "      --bg-color: #E8F0FE;\n",
              "      --fill-color: #1967D2;\n",
              "      --hover-bg-color: #E2EBFA;\n",
              "      --hover-fill-color: #174EA6;\n",
              "      --disabled-fill-color: #AAA;\n",
              "      --disabled-bg-color: #DDD;\n",
              "  }\n",
              "\n",
              "  [theme=dark] .colab-df-quickchart {\n",
              "      --bg-color: #3B4455;\n",
              "      --fill-color: #D2E3FC;\n",
              "      --hover-bg-color: #434B5C;\n",
              "      --hover-fill-color: #FFFFFF;\n",
              "      --disabled-bg-color: #3B4455;\n",
              "      --disabled-fill-color: #666;\n",
              "  }\n",
              "\n",
              "  .colab-df-quickchart {\n",
              "    background-color: var(--bg-color);\n",
              "    border: none;\n",
              "    border-radius: 50%;\n",
              "    cursor: pointer;\n",
              "    display: none;\n",
              "    fill: var(--fill-color);\n",
              "    height: 32px;\n",
              "    padding: 0;\n",
              "    width: 32px;\n",
              "  }\n",
              "\n",
              "  .colab-df-quickchart:hover {\n",
              "    background-color: var(--hover-bg-color);\n",
              "    box-shadow: 0 1px 2px rgba(60, 64, 67, 0.3), 0 1px 3px 1px rgba(60, 64, 67, 0.15);\n",
              "    fill: var(--button-hover-fill-color);\n",
              "  }\n",
              "\n",
              "  .colab-df-quickchart-complete:disabled,\n",
              "  .colab-df-quickchart-complete:disabled:hover {\n",
              "    background-color: var(--disabled-bg-color);\n",
              "    fill: var(--disabled-fill-color);\n",
              "    box-shadow: none;\n",
              "  }\n",
              "\n",
              "  .colab-df-spinner {\n",
              "    border: 2px solid var(--fill-color);\n",
              "    border-color: transparent;\n",
              "    border-bottom-color: var(--fill-color);\n",
              "    animation:\n",
              "      spin 1s steps(1) infinite;\n",
              "  }\n",
              "\n",
              "  @keyframes spin {\n",
              "    0% {\n",
              "      border-color: transparent;\n",
              "      border-bottom-color: var(--fill-color);\n",
              "      border-left-color: var(--fill-color);\n",
              "    }\n",
              "    20% {\n",
              "      border-color: transparent;\n",
              "      border-left-color: var(--fill-color);\n",
              "      border-top-color: var(--fill-color);\n",
              "    }\n",
              "    30% {\n",
              "      border-color: transparent;\n",
              "      border-left-color: var(--fill-color);\n",
              "      border-top-color: var(--fill-color);\n",
              "      border-right-color: var(--fill-color);\n",
              "    }\n",
              "    40% {\n",
              "      border-color: transparent;\n",
              "      border-right-color: var(--fill-color);\n",
              "      border-top-color: var(--fill-color);\n",
              "    }\n",
              "    60% {\n",
              "      border-color: transparent;\n",
              "      border-right-color: var(--fill-color);\n",
              "    }\n",
              "    80% {\n",
              "      border-color: transparent;\n",
              "      border-right-color: var(--fill-color);\n",
              "      border-bottom-color: var(--fill-color);\n",
              "    }\n",
              "    90% {\n",
              "      border-color: transparent;\n",
              "      border-bottom-color: var(--fill-color);\n",
              "    }\n",
              "  }\n",
              "</style>\n",
              "\n",
              "  <script>\n",
              "    async function quickchart(key) {\n",
              "      const quickchartButtonEl =\n",
              "        document.querySelector('#' + key + ' button');\n",
              "      quickchartButtonEl.disabled = true;  // To prevent multiple clicks.\n",
              "      quickchartButtonEl.classList.add('colab-df-spinner');\n",
              "      try {\n",
              "        const charts = await google.colab.kernel.invokeFunction(\n",
              "            'suggestCharts', [key], {});\n",
              "      } catch (error) {\n",
              "        console.error('Error during call to suggestCharts:', error);\n",
              "      }\n",
              "      quickchartButtonEl.classList.remove('colab-df-spinner');\n",
              "      quickchartButtonEl.classList.add('colab-df-quickchart-complete');\n",
              "    }\n",
              "    (() => {\n",
              "      let quickchartButtonEl =\n",
              "        document.querySelector('#df-cf3332ba-3b2c-4ee6-9dc1-55f64e726e7f button');\n",
              "      quickchartButtonEl.style.display =\n",
              "        google.colab.kernel.accessAllowed ? 'block' : 'none';\n",
              "    })();\n",
              "  </script>\n",
              "</div>\n",
              "    </div>\n",
              "  </div>\n"
            ],
            "application/vnd.google.colaboratory.intrinsic+json": {
              "type": "dataframe",
              "variable_name": "cat_dog_df",
              "summary": "{\n  \"name\": \"cat_dog_df\",\n  \"rows\": 2000,\n  \"fields\": [\n    {\n      \"column\": \"image_path\",\n      \"properties\": {\n        \"dtype\": \"string\",\n        \"num_unique_values\": 2000,\n        \"samples\": [\n          \"/content/dog/292.jpg\",\n          \"/content/cat/1987.jpg\",\n          \"/content/cat/2120.jpg\"\n        ],\n        \"semantic_type\": \"\",\n        \"description\": \"\"\n      }\n    },\n    {\n      \"column\": \"Target\",\n      \"properties\": {\n        \"dtype\": \"number\",\n        \"std\": 0,\n        \"min\": 0,\n        \"max\": 1,\n        \"num_unique_values\": 2,\n        \"samples\": [\n          1,\n          0\n        ],\n        \"semantic_type\": \"\",\n        \"description\": \"\"\n      }\n    }\n  ]\n}"
            }
          },
          "metadata": {},
          "execution_count": 5
        }
      ]
    },
    {
      "cell_type": "code",
      "source": [
        "import os\n",
        "import cv2\n",
        "import matplotlib.pyplot as plt\n",
        "import numpy as np\n",
        "from skimage.feature import hog\n",
        "\n",
        "# Function to preprocess an image using HOG with fixed size\n",
        "def preprocess_image_hog(image_path, target_size=(224, 224)):\n",
        "    features_imag = []\n",
        "    img = cv2.imread(image_path, cv2.IMREAD_GRAYSCALE)  # Read the image in grayscale\n",
        "    if img is None:\n",
        "        print(f\"Error: Unable to read image at {image_path}\")\n",
        "        return None\n",
        "\n",
        "    # Resize the image to the target size\n",
        "    img_resized = cv2.resize(img, target_size)\n",
        "\n",
        "    # Compute HOG features\n",
        "    hog_features = hog(img_resized,\n",
        "                       orientations=9,\n",
        "                       pixels_per_cell=(8, 8),\n",
        "                       cells_per_block=(2, 2),\n",
        "                       block_norm='L2-Hys',\n",
        "                       visualize=False)\n",
        "    # Append the flattened image to the list\n",
        "    features_imag.append(hog_features)\n",
        "    return features_imag"
      ],
      "metadata": {
        "id": "dteiBxEJ8h_n"
      },
      "execution_count": 21,
      "outputs": []
    },
    {
      "cell_type": "code",
      "source": [
        "# Create a new column to store HOG features\n",
        "cat_dog_df['hog_features'] = None\n",
        "\n",
        "# Apply HOG feature extraction to each image\n",
        "for index, row in cat_dog_df.iterrows():\n",
        "    image_path = row['image_path']\n",
        "    hog_features = preprocess_image_hog(image_path)\n",
        "    cat_dog_df.at[index, 'hog_features'] = hog_features\n",
        "\n",
        "# Filter out rows with None values in the 'hog_features' column\n",
        "filtered_cat_dog_df = cat_dog_df.dropna(subset=['hog_features'])\n",
        "\n",
        "# Display the DataFrame with filtered HOG features\n",
        "print(filtered_cat_dog_df.head())"
      ],
      "metadata": {
        "colab": {
          "base_uri": "https://localhost:8080/"
        },
        "id": "d2iNYqe98oyl",
        "outputId": "b462787a-a2b5-468d-f1c3-c8fc0b1a3540"
      },
      "execution_count": 22,
      "outputs": [
        {
          "output_type": "stream",
          "name": "stdout",
          "text": [
            "              image_path  Target  \\\n",
            "0   /content/dog/156.jpg       0   \n",
            "1  /content/cat/1981.jpg       1   \n",
            "2   /content/dog/926.jpg       0   \n",
            "3   /content/dog/906.jpg       0   \n",
            "4   /content/dog/801.jpg       0   \n",
            "\n",
            "                                        hog_features  \n",
            "0  [[0.2089020928954427, 0.15767524129668228, 0.2...  \n",
            "1  [[0.2064635882915747, 0.01884595056616435, 0.0...  \n",
            "2  [[0.20060122308039116, 0.058233324778687756, 0...  \n",
            "3  [[0.3544639339571799, 0.033879457968622954, 0....  \n",
            "4  [[0.05530250688135867, 0.12694589903945827, 0....  \n"
          ]
        }
      ]
    },
    {
      "cell_type": "code",
      "source": [
        "# Convert hog_features column to a numpy array\n",
        "X = np.array(filtered_cat_dog_df['hog_features'].tolist())\n",
        "y = filtered_cat_dog_df[\"Target\"]\n",
        "\n",
        "# Reshape X to a 2D array\n",
        "X = X.reshape(X.shape[0], -1)\n",
        "\n",
        "# Display the shape of X and y\n",
        "print(\"X shape:\", X.shape)\n",
        "print(\"y shape:\", y.shape)"
      ],
      "metadata": {
        "colab": {
          "base_uri": "https://localhost:8080/"
        },
        "id": "HuCkUYip9qZJ",
        "outputId": "a89f89b9-9b3a-4387-c7e9-483bc73d5075"
      },
      "execution_count": 23,
      "outputs": [
        {
          "output_type": "stream",
          "name": "stdout",
          "text": [
            "X shape: (2000, 26244)\n",
            "y shape: (2000,)\n"
          ]
        }
      ]
    },
    {
      "cell_type": "code",
      "source": [
        "from sklearn.preprocessing import StandardScaler\n",
        "# Standardize the pixel values across all images\n",
        "scaler = StandardScaler()\n",
        "X_scaled = scaler.fit_transform(X)"
      ],
      "metadata": {
        "id": "6_5XIhTzKC10"
      },
      "execution_count": 24,
      "outputs": []
    },
    {
      "cell_type": "code",
      "source": [
        "from sklearn.decomposition import PCA\n",
        "\n",
        "# Perform PCA\n",
        "pca = PCA()\n",
        "X_pca = pca.fit_transform(X_scaled)\n",
        "\n",
        "# Calculate explained variance ratio\n",
        "explained_variance_ratio = pca.explained_variance_ratio_\n",
        "\n",
        "# Plot explained variance ratio\n",
        "plt.figure(figsize=(10, 6))\n",
        "plt.plot(np.cumsum(explained_variance_ratio), marker='o', linestyle='-')\n",
        "plt.xlabel('Number of Components')\n",
        "plt.ylabel('Cumulative Explained Variance Ratio')\n",
        "plt.title('Cumulative Explained Variance Ratio vs. Number of Components')\n",
        "plt.grid(True)\n",
        "plt.show()"
      ],
      "metadata": {
        "colab": {
          "base_uri": "https://localhost:8080/",
          "height": 564
        },
        "id": "A42oLmZm-9aV",
        "outputId": "e4644406-dac9-4091-fa18-491ece34e8d1"
      },
      "execution_count": 26,
      "outputs": [
        {
          "output_type": "display_data",
          "data": {
            "text/plain": [
              "<Figure size 1000x600 with 1 Axes>"
            ],
            "image/png": "[encoded data removed]"
          },
          "metadata": {}
        }
      ]
    },
    {
      "cell_type": "code",
      "source": [
        "from sklearn.pipeline import Pipeline\n",
        "\n",
        "# Define the pipeline\n",
        "scaler_pca_pipeline = Pipeline([\n",
        "    ('scaler', StandardScaler()),  # Step 1: StandardScaler\n",
        "    ('pca', PCA(n_components=0.95))  # Step 2: PCA with explained variance ratio\n",
        "])\n",
        "\n",
        "# Fit and transform the data using the pipeline\n",
        "X_scaled_pca = scaler_pca_pipeline.fit_transform(X)"
      ],
      "metadata": {
        "id": "o2gI_gt5PGnj"
      },
      "execution_count": 27,
      "outputs": []
    },
    {
      "cell_type": "code",
      "source": [
        "from sklearn.model_selection import train_test_split\n",
        "X_train, X_test, y_train, y_test = train_test_split(X_scaled_pca, y, test_size=0.2, random_state=42)"
      ],
      "metadata": {
        "id": "oFl5lN3nKaHO"
      },
      "execution_count": 73,
      "outputs": []
    },
    {
      "cell_type": "markdown",
      "source": [
        "NN"
      ],
      "metadata": {
        "id": "1J1_nHMXPrOL"
      }
    },
    {
      "cell_type": "code",
      "source": [
        "#!pip install torch torchvision torchaudio"
      ],
      "metadata": {
        "id": "jH9XVOXWQVGm"
      },
      "execution_count": 35,
      "outputs": []
    },
    {
      "cell_type": "code",
      "source": [
        "import torch\n",
        "from torch.utils.data import TensorDataset, DataLoader\n",
        "import torchvision\n",
        "import torch.nn as nn\n",
        "\n",
        "X_train_norm = torch.from_numpy(X_train).float()\n",
        "y_train = pd.Series(y_train)\n",
        "y_train = torch.from_numpy(y_train.values)\n",
        "\n",
        "# Ensure X_train and y_train have the same number of rows\n",
        "assert len(X_train_norm) == len(y_train), \"Size mismatch between X_train and y_train\"\n",
        "\n",
        "# Create a tensor dataset\n",
        "train_ds = TensorDataset(X_train_norm, y_train)\n",
        "\n",
        "# Set random seed for reproducibility\n",
        "torch.manual_seed(1)\n",
        "\n",
        "# Define batch size\n",
        "batch_size = 2\n",
        "\n",
        "# Create DataLoader\n",
        "train_dl = DataLoader(train_ds, batch_size, shuffle=True)"
      ],
      "metadata": {
        "id": "rx4vZFTwPc8f"
      },
      "execution_count": 74,
      "outputs": []
    },
    {
      "cell_type": "code",
      "source": [
        "class Model(nn.Module):\n",
        "    def __init__(self, input_size, hidden_size, output_size):\n",
        "        super().__init__()\n",
        "        self.layer1 = nn.Linear(input_size, hidden_size)\n",
        "        self.layer2 = nn.Linear(hidden_size, output_size)\n",
        "\n",
        "    def forward(self, x):\n",
        "        x = self.layer1(x)\n",
        "        x = torch.sigmoid(x)\n",
        "        x = self.layer2(x)\n",
        "        return x\n",
        "\n",
        "input_size = X_train_norm.shape[1]\n",
        "hidden_size = 16  # You can choose any suitable size\n",
        "output_size = 1  # Assuming you're dealing with binary classification\n",
        "\n",
        "# Create an instance of the model\n",
        "model = Model(input_size, hidden_size, output_size)\n"
      ],
      "metadata": {
        "id": "tLVOXt-QQwsA"
      },
      "execution_count": 75,
      "outputs": []
    },
    {
      "cell_type": "code",
      "source": [
        "# Define loss function (Binary Cross Entropy)\n",
        "loss_fn = nn.BCEWithLogitsLoss()\n",
        "\n",
        "# Define optimizer (e.g., Stochastic Gradient Descent)\n",
        "optimizer = torch.optim.SGD(model.parameters(), lr=0.01)\n",
        "\n",
        "# Define the number of epochs\n",
        "num_epochs = 20\n",
        "\n",
        "# Training loop\n",
        "for epoch in range(num_epochs):\n",
        "    # Iterate over the batches\n",
        "    for xb, yb in train_dl:\n",
        "        # Forward pass\n",
        "        pred = model(xb)\n",
        "        yb = yb.view(-1, 1)\n",
        "        # Calculate loss\n",
        "        loss = loss_fn(pred, yb.float())  # Convert yb to float as BCEWithLogitsLoss expects float\n",
        "\n",
        "        # Backward pass\n",
        "        loss.backward()\n",
        "\n",
        "        # Update model parameters\n",
        "        optimizer.step()\n",
        "\n",
        "        # Zero gradients\n",
        "        optimizer.zero_grad()\n",
        "\n",
        "    # Print the loss every epoch\n",
        "    print(f'Epoch [{epoch+1}/{num_epochs}], Loss: {loss.item()}')"
      ],
      "metadata": {
        "colab": {
          "base_uri": "https://localhost:8080/"
        },
        "id": "VSPj551vVhwB",
        "outputId": "49d5706f-0f61-4162-d01f-8d46ba749704"
      },
      "execution_count": 76,
      "outputs": [
        {
          "output_type": "stream",
          "name": "stdout",
          "text": [
            "Epoch [1/20], Loss: 0.6765199899673462\n",
            "Epoch [2/20], Loss: 0.3672650456428528\n",
            "Epoch [3/20], Loss: 0.9262349009513855\n",
            "Epoch [4/20], Loss: 0.05733639746904373\n",
            "Epoch [5/20], Loss: 0.008421767503023148\n",
            "Epoch [6/20], Loss: 0.035411667078733444\n",
            "Epoch [7/20], Loss: 0.009331390261650085\n",
            "Epoch [8/20], Loss: 0.09472082555294037\n",
            "Epoch [9/20], Loss: 0.023670610040426254\n",
            "Epoch [10/20], Loss: 0.011240530759096146\n",
            "Epoch [11/20], Loss: 0.012060497887432575\n",
            "Epoch [12/20], Loss: 0.0214687529951334\n",
            "Epoch [13/20], Loss: 0.0051505472511053085\n",
            "Epoch [14/20], Loss: 0.004088802728801966\n",
            "Epoch [15/20], Loss: 0.000483515061205253\n",
            "Epoch [16/20], Loss: 0.011113281361758709\n",
            "Epoch [17/20], Loss: 0.008972941897809505\n",
            "Epoch [18/20], Loss: 0.008061965927481651\n",
            "Epoch [19/20], Loss: 0.003170367795974016\n",
            "Epoch [20/20], Loss: 0.01871490478515625\n"
          ]
        }
      ]
    },
    {
      "cell_type": "code",
      "source": [
        "# Convert the normalized test data to a PyTorch tensor of type float\n",
        "X_test_norm = torch.from_numpy(X_test).float()\n",
        "# Convert the test labels to a PyTorch tensor\n",
        "y_test = torch.from_numpy(y_test.values).long()  # Assuming y_test contains integer labels\n",
        "# Make predictions on the normalized test data using the model\n",
        "pred_test = model(X_test_norm)\n",
        "# Determine the correct predictions by comparing predicted labels with actual labels\n",
        "correct = (torch.argmax(pred_test, dim=1) == y_test).float()\n",
        "# Calculate the accuracy by taking the mean of correct predictions\n",
        "accuracy = correct.mean()\n",
        "# Print the test accuracy\n",
        "print(f'Test Acc.: {accuracy.item():.4f}')"
      ],
      "metadata": {
        "colab": {
          "base_uri": "https://localhost:8080/"
        },
        "id": "Fx7Lzy9iZsCE",
        "outputId": "d8da95c9-2367-4d04-fd27-c0b858526175"
      },
      "execution_count": 77,
      "outputs": [
        {
          "output_type": "stream",
          "name": "stdout",
          "text": [
            "Test Acc.: 0.5050\n"
          ]
        }
      ]
    }
  ]
}